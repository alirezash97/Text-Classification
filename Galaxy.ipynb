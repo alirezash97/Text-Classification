{
  "nbformat": 4,
  "nbformat_minor": 0,
  "metadata": {
    "colab": {
      "name": "Galaxy.ipynb",
      "provenance": [],
      "collapsed_sections": [],
      "authorship_tag": "ABX9TyNsiLwuTnnokM8G7+AXa4nF",
      "include_colab_link": true
    },
    "kernelspec": {
      "name": "python3",
      "display_name": "Python 3"
    }
  },
  "cells": [
    {
      "cell_type": "markdown",
      "metadata": {
        "id": "view-in-github",
        "colab_type": "text"
      },
      "source": [
        "<a href=\"https://colab.research.google.com/github/alirezash97/Text-Classification/blob/master/Galaxy.ipynb\" target=\"_parent\"><img src=\"https://colab.research.google.com/assets/colab-badge.svg\" alt=\"Open In Colab\"/></a>"
      ]
    },
    {
      "cell_type": "code",
      "metadata": {
        "id": "Y4SYO5-PRGxe",
        "colab_type": "code",
        "colab": {}
      },
      "source": [
        "import numpy as np"
      ],
      "execution_count": 0,
      "outputs": []
    },
    {
      "cell_type": "code",
      "metadata": {
        "id": "NiQTn_qISVEw",
        "colab_type": "code",
        "colab": {}
      },
      "source": [
        ""
      ],
      "execution_count": 0,
      "outputs": []
    },
    {
      "cell_type": "code",
      "metadata": {
        "id": "6Pr3viwCQywp",
        "colab_type": "code",
        "colab": {}
      },
      "source": [
        "class NeuralNetwork:\n",
        "\n",
        "\n",
        "  def __init__(self, layers, learning_rate, x, y):\n",
        "    self.layers = layers\n",
        "    self.learning_rate = learning_rate\n",
        "    self.x = x\n",
        "    self.y = y\n",
        "  \n",
        "  \n",
        "\n",
        "  \n",
        "  def sigmoid(self, z):\n",
        "    return 1 / (1 + np.exp(-z))\n",
        "  \n",
        "\n",
        "  \n",
        "  def initialization(self):\n",
        "    for i in range(1, len(self.layers)):\n",
        "        w0 = globals()['w%s' % 0] = np.zeros((self.x.shape[1], self.layers[0]))\n",
        "        b0 = globals()['b%s' % 0] = np.ones((self.layers[0], 1))\n",
        "        globals()['w%s' % i] = np.zeros((self.layers[i-1], self.layers[i]))\n",
        "        globals()['b%s' % i] = np.ones((self.layers[i], 1))\n",
        "    globals()['w%s' % (len(self.layers))] = np.zeros((self.layers[i], 1))\n",
        "    globals()['b%s' % (len(self.layers))] = np.ones((1, 1))\n",
        "    return None\n",
        "    \n",
        "  \n",
        "  def forwardPropagation(self):\n",
        "    for i in range(2, len(self.layers) + 1):\n",
        "      globals()['z%s' % 1] = np.dot(self.x, globals()['w%s' % 0]) + globals()['b%s' % 0].T\n",
        "      globals()['a%s' % 1] = self.sigmoid(globals()['z%s' % 1])\n",
        "      globals()['z%s' % i] = np.dot(globals()['a%s' % (i-1)], globals()['w%s' % (i-1)]) + globals()['b%s' % (i-1)].T\n",
        "      globals()['a%s' % i] = self.sigmoid(globals()['z%s' % i])\n",
        "      if i == (len(self.layers)) :\n",
        "        globals()['z%s' % (len(self.layers) + 1)] = np.dot(globals()['a%s' % (i)], globals()['w%s' % (i)]) + globals()['b%s' % (i)].T\n",
        "        globals()['a%s' % (len(self.layers) + 1)] = self.sigmoid(globals()['z%s' % (len(self.layers) + 1)])\n",
        "    return None\n",
        "\n",
        "  def backpropagation(self):\n",
        "    \n",
        "    \n",
        "    globals()['da%s' % (len(self.layers) + 1)] = 0\n",
        "    for j in range(self.x.shape[0] - 1 ):\n",
        "      globals()['da%s' % (len(self.layers) + 1)] += ( -y[j] / globals()['a%s' % (len(self.layers) + 1)][j] ) + ( (1 - y[j]) / (1 - globals()['a%s' % (len(self.layers) + 1)][j]) )\n",
        "    # globals()['dz%s' % len(self.layers) + 1)] = globals()['da%s' % len(self.layers) + 1)] * sigmoid()\n",
        "    \n",
        "\n",
        "  \n",
        "  def output(self):\n",
        "    print(\"\\n\", self.x)\n",
        "    for i in range(1, len(self.layers) + 2):\n",
        "      print(\"\\n\", globals()['z%s' % i])\n",
        "      print(\"\\n\", globals()['a%s' % i])\n",
        "    print(\" i am da for last layer\", globals()['da%s' % (len(self.layers) + 1)])\n",
        "    return None\n",
        "\n",
        "\n",
        "#############################\n",
        "neural = NeuralNetwork([4, 3, 2], 0.15, np.array([[1, 5, 3], [4, 6, 1], [9, 1, 5]]), [0, 1, 1])\n",
        "neural.initialization()\n",
        "neural.forwardPropagation()\n",
        "neural.backpropagation()\n",
        "neural.output()\n",
        "##############################\n"
      ],
      "execution_count": 0,
      "outputs": []
    },
    {
      "cell_type": "code",
      "metadata": {
        "id": "1SlUC3rKRJZg",
        "colab_type": "code",
        "colab": {}
      },
      "source": [
        ""
      ],
      "execution_count": 0,
      "outputs": []
    }
  ]
}